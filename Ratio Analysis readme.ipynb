{
 "cells": [
  {
   "cell_type": "markdown",
   "id": "aa325d5a-1b47-4490-92b8-68558b952a86",
   "metadata": {},
   "source": [
    "\n",
    "#  Financial Ratio Analysis for Shriram Finance\n",
    "\n",
    "##  Overview\n",
    "This module performs **financial ratio analysis** for Shriram Finance using historical financial statements and visualizes key trends. It is part of the **Strategic Financial Planning Project**.\n",
    "\n",
    "---\n",
    "\n",
    "##  Objectives\n",
    "- Calculate key financial ratios for historical data (2016–2025).\n",
    "- Export ratio analysis to Excel for reporting.\n",
    "- Visualize ratio trends using line charts.\n",
    "\n",
    "---\n",
    "\n",
    "##  Data Sources\n",
    "- **Historical Financials**: `SFL STATEMENTS.xlsx`\n",
    "  - Sheets: `Income Statement`, `Balance Sheet`\n",
    "\n",
    "---\n",
    "\n",
    "##  Ratios Calculated\n",
    "- **Net Profit Margin (%)** = Net Profit ÷ Sales × 100\n",
    "- **Operating Margin (%)** = Operating Profit ÷ Sales × 100\n",
    "- **Debt-to-Equity Ratio** = Borrowings ÷ Reserves\n",
    "- **Return on Assets (%)** = Net Profit ÷ Total Assets × 100\n",
    "- **Return on Equity (%)** = Net Profit ÷ Reserves × 100\n",
    "\n",
    "---\n",
    "\n",
    "##  Deliverables\n",
    "- `Ratio_Analysis.xlsx` → Detailed ratio table with charts.\n",
    "- `ratio_analysis.ipynb` → Jupyter Notebook for automation and visualization.\n",
    "\n",
    "---\n",
    "\n",
    "##  How to Run\n",
    "1. Place `SFL STATEMENTS.xlsx` in the `data/` folder.\n",
    "2. Open `scripts/ratio_analysis.ipynb` in Jupyter Notebook.\n",
    "3. Run all cells to:\n",
    "   - Calculate ratios.\n",
    "   - Export to Excel.\n",
    "   - Generate trend charts.\n",
    "\n",
    "---\n",
    "\n",
    "##  Repository Structure\n"
   ]
  },
  {
   "cell_type": "code",
   "execution_count": null,
   "id": "b48dd057-2a8f-43c4-b3f9-346e2ab4c903",
   "metadata": {},
   "outputs": [],
   "source": []
  }
 ],
 "metadata": {
  "kernelspec": {
   "display_name": "Python [conda env:base] *",
   "language": "python",
   "name": "conda-base-py"
  },
  "language_info": {
   "codemirror_mode": {
    "name": "ipython",
    "version": 3
   },
   "file_extension": ".py",
   "mimetype": "text/x-python",
   "name": "python",
   "nbconvert_exporter": "python",
   "pygments_lexer": "ipython3",
   "version": "3.13.5"
  }
 },
 "nbformat": 4,
 "nbformat_minor": 5
}
