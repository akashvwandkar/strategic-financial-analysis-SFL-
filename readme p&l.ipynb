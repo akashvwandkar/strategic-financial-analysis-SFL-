{
 "cells": [
  {
   "cell_type": "markdown",
   "id": "773ac71c-56c3-459b-afa9-5157c4312d60",
   "metadata": {},
   "source": [
    "# 📊 Day 5: Income Statement Forecasting in Python\n",
    "\n",
    "## ✅ Purpose\n",
    "This module forecasts the Income Statement of **Shriram Finance** for the years 2026–2030 using strategic assumptions defined in Day 4. It supports three scenarios:\n",
    "- **Base Case**\n",
    "- **Best Case**\n",
    "- **Worst Case**\n",
    "\n",
    "This enables dynamic financial planning and scenario analysis.\n",
    "\n",
    "---\n",
    "\n",
    "## 🧠 Methodology\n",
    "The forecasting model uses the following formulas:\n",
    "- **Revenue** = Previous Year Revenue × (1 + Growth Rate)\n",
    "- **Operating Profit** = Revenue × Operating Margin\n",
    "- **Net Profit** = Operating Profit × (1 - Tax Rate)\n",
    "\n",
    "Each scenario applies different growth rates and margins to simulate future performance.\n",
    "\n",
    "---\n",
    "\n",
    "## 📋 Assumptions Used\n",
    "Strategic assumptions are sourced from:\n",
    "- Historical performance (2016–2025)\n",
    "- NBFC industry benchmarks\n",
    "- Shriram Finance’s growth trends\n",
    "\n",
    "Key drivers include:\n",
    "- Revenue Growth Rate (%)\n",
    "- Operating Margin (%)\n",
    "- Tax Rate (%)\n",
    "\n",
    "These are defined in `strategic_assumptions.py` and used to generate forecasts.\n",
    "\n",
    "---\n",
    "\n",
    "## ⚙️ Steps to Run the Script\n",
    "1. Clone the repository:\n",
    "   ```bash\n",
    "   git clone https://github.com/Akashvwandkar/Strategic-Financial-Planning.git"
   ]
  },
  {
   "cell_type": "code",
   "execution_count": null,
   "id": "8ebbfd6e-21d5-4cc0-b0f0-806d86b65a9d",
   "metadata": {},
   "outputs": [],
   "source": []
  }
 ],
 "metadata": {
  "kernelspec": {
   "display_name": "Python [conda env:base] *",
   "language": "python",
   "name": "conda-base-py"
  },
  "language_info": {
   "codemirror_mode": {
    "name": "ipython",
    "version": 3
   },
   "file_extension": ".py",
   "mimetype": "text/x-python",
   "name": "python",
   "nbconvert_exporter": "python",
   "pygments_lexer": "ipython3",
   "version": "3.13.5"
  }
 },
 "nbformat": 4,
 "nbformat_minor": 5
}
